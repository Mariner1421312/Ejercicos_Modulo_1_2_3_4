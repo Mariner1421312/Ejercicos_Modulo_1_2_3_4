{
 "cells": [
  {
   "cell_type": "markdown",
   "metadata": {},
   "source": [
    "# PROBLEMAS DIVERSOS"
   ]
  },
  {
   "cell_type": "markdown",
   "metadata": {},
   "source": [
    "<h3>1.</h3>\n",
    "Realizar una función que permita la carga de n alumnos. Por cada alumno se deberá preguntar el nombre completo y permitir el ingreso de 3 notas. Las notas deben estar comprendidas entre 0 y 10. Devolver el listado de alumnos."
   ]
  },
  {
   "cell_type": "code",
   "execution_count": 4,
   "metadata": {},
   "outputs": [
    {
     "name": "stdin",
     "output_type": "stream",
     "text": [
      "Ingrese la cantidad de alumnos del curso:  4\n"
     ]
    },
    {
     "name": "stdout",
     "output_type": "stream",
     "text": [
      "Ingrese los datos del alumno 1\n"
     ]
    },
    {
     "name": "stdin",
     "output_type": "stream",
     "text": [
      "Nombre Completo:  Senying\n",
      "Nota 1:  2\n",
      "Nota 2:  4\n",
      "Nota 3:  5\n"
     ]
    },
    {
     "name": "stdout",
     "output_type": "stream",
     "text": [
      "Ingrese los datos del alumno 2\n"
     ]
    },
    {
     "name": "stdin",
     "output_type": "stream",
     "text": [
      "Nombre Completo:  Carlos\n",
      "Nota 1:  5\n",
      "Nota 2:  4\n",
      "Nota 3:  3\n"
     ]
    },
    {
     "name": "stdout",
     "output_type": "stream",
     "text": [
      "Ingrese los datos del alumno 3\n"
     ]
    },
    {
     "name": "stdin",
     "output_type": "stream",
     "text": [
      "Nombre Completo:  Adolfo\n",
      "Nota 1:  1\n",
      "Nota 2:  2\n",
      "Nota 3:  3\n"
     ]
    },
    {
     "name": "stdout",
     "output_type": "stream",
     "text": [
      "Ingrese los datos del alumno 4\n"
     ]
    },
    {
     "name": "stdin",
     "output_type": "stream",
     "text": [
      "Nombre Completo:  Olberto\n",
      "Nota 1:  6\n",
      "Nota 2:  7\n",
      "Nota 3:  8\n"
     ]
    },
    {
     "name": "stdout",
     "output_type": "stream",
     "text": [
      "El listado de alumnos es el siguiente: [{'nombre': 'Senying', 'nota1': 2.0, 'nota2': 4.0, 'nota3': 5.0}, {'nombre': 'Carlos', 'nota1': 5.0, 'nota2': 4.0, 'nota3': 3.0}, {'nombre': 'Adolfo', 'nota1': 1.0, 'nota2': 2.0, 'nota3': 3.0}, {'nombre': 'Olberto', 'nota1': 6.0, 'nota2': 7.0, 'nota3': 8.0}]\n"
     ]
    }
   ],
   "source": [
    "def listado(n):\n",
    "    aux = 0\n",
    "    aux2 = 0\n",
    "    alumnos = []\n",
    "    contador = 0\n",
    "    notaacum = 0\n",
    "    verificador = True\n",
    "    for i in range(n):\n",
    "        print(\"Ingrese los datos del alumno {}\".format(i+1))\n",
    "        repetidor = True\n",
    "        while repetidor:\n",
    "            alumno = {\n",
    "                'nombre': input('Nombre Completo: '),\n",
    "                'nota1': float(input('Nota 1: ')),\n",
    "                'nota2': float(input('Nota 2: ')),\n",
    "                'nota3': float(input('Nota 3: '))\n",
    "                }\n",
    "            if 0 <= alumno['nota1'] <= 10 and 0 <= alumno['nota2'] <= 10 and 0 <= alumno['nota3'] <= 10:\n",
    "                repetidor = False\n",
    "            else:\n",
    "                print(\"Uno de las notas escogidas no se encuentra entre 0 y 10, ingresar denuevo\")\n",
    "                repetidor = True\n",
    "        notaprom = (alumno['nota1']+alumno['nota2']+alumno['nota3'])/3\n",
    "        if notaprom >= aux:\n",
    "            notamay = alumno['nombre']\n",
    "            aux = notaprom\n",
    "            while verificador:\n",
    "                aux2 = aux\n",
    "                verificador = False\n",
    "        if notaprom <= aux2:\n",
    "            aux2 = aux\n",
    "            notamen = alumno['nombre']\n",
    "        if notaprom >= 4:\n",
    "            contador = contador + 1\n",
    "        notaacum = notaacum + notaprom\n",
    "        alumnos.append(alumno)\n",
    "    return alumnos,contador,notaacum,notamay,notamen\n",
    "n = int(input(\"Ingrese la cantidad de alumnos del curso: \"))\n",
    "alumnos,contador,notaacum,notamay,notamen = listado(n)\n",
    "notapromsalon = notaacum/n\n",
    "print(\"El listado de alumnos es el siguiente: {}\".format(alumnos))"
   ]
  },
  {
   "cell_type": "markdown",
   "metadata": {},
   "source": [
    "### 2.\n",
    "Definir una función que dado un listado de alumnos evalúe cuántos aprobaron y cuántos desaprobaron, teniendo en cuenta que se aprueba con 4. La nota será el promedio de las 3 notas para cada alumno."
   ]
  },
  {
   "cell_type": "code",
   "execution_count": 5,
   "metadata": {},
   "outputs": [
    {
     "name": "stdout",
     "output_type": "stream",
     "text": [
      "La cantidad de alumnos aprobados es 2 y desaprobados es 2: \n"
     ]
    }
   ],
   "source": [
    "print(\"La cantidad de alumnos aprobados es {} y desaprobados es {}: \".format(contador,n-contador))"
   ]
  },
  {
   "cell_type": "markdown",
   "metadata": {},
   "source": [
    "### 3.\n",
    "Informar el promedio de nota del curso total."
   ]
  },
  {
   "cell_type": "code",
   "execution_count": 6,
   "metadata": {},
   "outputs": [
    {
     "name": "stdout",
     "output_type": "stream",
     "text": [
      "La nota promedio del salón es 4.166666666666666\n"
     ]
    }
   ],
   "source": [
    "print(\"La nota promedio del salón es {}\".format(notapromsalon))"
   ]
  },
  {
   "cell_type": "markdown",
   "metadata": {},
   "source": [
    "### 4.\n",
    "Realizar una función que indique quién tuvo el promedio más alto y quién tuvo la nota promedio más baja."
   ]
  },
  {
   "cell_type": "code",
   "execution_count": 7,
   "metadata": {},
   "outputs": [
    {
     "name": "stdout",
     "output_type": "stream",
     "text": [
      "El alumno con mayor nota promedio es Olberto y con menor nota promedio es Adolfo\n"
     ]
    }
   ],
   "source": [
    "print(\"El alumno con mayor nota promedio es {} y con menor nota promedio es {}\".format(notamay,notamen))"
   ]
  }
 ],
 "metadata": {
  "kernelspec": {
   "display_name": "Python 3",
   "language": "python",
   "name": "python3"
  },
  "language_info": {
   "codemirror_mode": {
    "name": "ipython",
    "version": 3
   },
   "file_extension": ".py",
   "mimetype": "text/x-python",
   "name": "python",
   "nbconvert_exporter": "python",
   "pygments_lexer": "ipython3",
   "version": "3.8.5"
  }
 },
 "nbformat": 4,
 "nbformat_minor": 4
}
